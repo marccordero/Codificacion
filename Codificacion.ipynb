{
 "cells": [
  {
   "cell_type": "markdown",
   "id": "2a92fa54-8f41-492c-b254-f881dacdaf18",
   "metadata": {},
   "source": [
    "<h1> <b> Codificación Variables Categóricas </b> </h1>"
   ]
  },
  {
   "cell_type": "markdown",
   "id": "a0ccc6eb-df15-43a9-a178-4dab6cbf872d",
   "metadata": {},
   "source": [
    "<h3>  1.OneHotEncoder </h3> "
   ]
  },
  {
   "cell_type": "markdown",
   "id": "10dce486",
   "metadata": {},
   "source": [
    "Geography"
   ]
  },
  {
   "cell_type": "code",
   "execution_count": 2,
   "id": "ea686e16-d3d0-401d-be75-3bb946a4f34e",
   "metadata": {},
   "outputs": [
    {
     "name": "stderr",
     "output_type": "stream",
     "text": [
      "C:\\Users\\vedruna\\AppData\\Local\\Temp\\ipykernel_9592\\3824837831.py:1: DeprecationWarning: \n",
      "Pyarrow will become a required dependency of pandas in the next major release of pandas (pandas 3.0),\n",
      "(to allow more performant data types, such as the Arrow string type, and better interoperability with other libraries)\n",
      "but was not found to be installed on your system.\n",
      "If this would cause problems for you,\n",
      "please provide us feedback at https://github.com/pandas-dev/pandas/issues/54466\n",
      "        \n",
      "  import pandas as pd\n"
     ]
    },
    {
     "name": "stdout",
     "output_type": "stream",
     "text": [
      "\n",
      "DataFrame con codificación One-Hot:\n",
      "   RowNumber  CustomerId   Surname  CreditScore  Gender  Age  Tenure  \\\n",
      "0          1    15634602  Hargrave          619  Female   42       2   \n",
      "1          2    15647311      Hill          608  Female   41       1   \n",
      "2          3    15619304      Onio          502  Female   42       8   \n",
      "3          4    15701354      Boni          699  Female   39       1   \n",
      "4          5    15737888  Mitchell          850  Female   43       2   \n",
      "\n",
      "     Balance  NumOfProducts  HasCrCard  IsActiveMember  EstimatedSalary  \\\n",
      "0       0.00              1          1               1        101348.88   \n",
      "1   83807.86              1          0               1        112542.58   \n",
      "2  159660.80              3          1               0        113931.57   \n",
      "3       0.00              2          0               0         93826.63   \n",
      "4  125510.82              1          1               1         79084.10   \n",
      "\n",
      "   Exited  Geography_France  Geography_Germany  Geography_Spain  \n",
      "0       1               1.0                0.0              0.0  \n",
      "1       0               0.0                0.0              1.0  \n",
      "2       1               1.0                0.0              0.0  \n",
      "3       0               1.0                0.0              0.0  \n",
      "4       0               0.0                0.0              1.0  \n"
     ]
    }
   ],
   "source": [
    "import pandas as pd\n",
    "from sklearn.preprocessing import OneHotEncoder\n",
    "\n",
    "\n",
    "\n",
    "data = pd.read_csv('Churn_Modelling.csv')\n",
    "# Inicializamos el codificador One-Hot\n",
    "encoder = OneHotEncoder()\n",
    "# Ajustamos el codificador a los datos y transformamos la variable categórica\n",
    "encoded_data = encoder.fit_transform(data[['Geography']]).toarray()\n",
    "# Creamos un DataFrame con las columnas codificadas\n",
    "encoded_df = pd.DataFrame(encoded_data, columns=encoder.get_feature_names_out(['Geography']))\n",
    "\n",
    "# Concatenamos el DataFrame original con el DataFrame codificado\n",
    "df_encoded = pd.concat([data, encoded_df], axis=1)\n",
    "\n",
    "# Eliminamos la columna original de la variable categórica\n",
    "df_encoded.drop(['Geography'], axis=1, inplace=True)\n",
    "\n",
    "# Visualizamos el DataFrame con la codificación One-Hot\n",
    "print(\"\\nDataFrame con codificación One-Hot:\")\n",
    "print(df_encoded.head())\n"
   ]
  },
  {
   "cell_type": "markdown",
   "id": "8ec97a60",
   "metadata": {},
   "source": [
    "Gender"
   ]
  },
  {
   "cell_type": "code",
   "execution_count": 3,
   "id": "f1d97fdd",
   "metadata": {},
   "outputs": [
    {
     "name": "stdout",
     "output_type": "stream",
     "text": [
      "\n",
      "DataFrame con codificación One-Hot:\n",
      "   RowNumber  CustomerId   Surname  CreditScore  Age  Tenure    Balance  \\\n",
      "0          1    15634602  Hargrave          619   42       2       0.00   \n",
      "1          2    15647311      Hill          608   41       1   83807.86   \n",
      "2          3    15619304      Onio          502   42       8  159660.80   \n",
      "3          4    15701354      Boni          699   39       1       0.00   \n",
      "4          5    15737888  Mitchell          850   43       2  125510.82   \n",
      "\n",
      "   NumOfProducts  HasCrCard  IsActiveMember  EstimatedSalary  Exited  \\\n",
      "0              1          1               1        101348.88       1   \n",
      "1              1          0               1        112542.58       0   \n",
      "2              3          1               0        113931.57       1   \n",
      "3              2          0               0         93826.63       0   \n",
      "4              1          1               1         79084.10       0   \n",
      "\n",
      "   Geography_France  Geography_Germany  Geography_Spain  Gender_Female  \\\n",
      "0               1.0                0.0              0.0            1.0   \n",
      "1               0.0                0.0              1.0            1.0   \n",
      "2               1.0                0.0              0.0            1.0   \n",
      "3               1.0                0.0              0.0            1.0   \n",
      "4               0.0                0.0              1.0            1.0   \n",
      "\n",
      "   Gender_Male  \n",
      "0          0.0  \n",
      "1          0.0  \n",
      "2          0.0  \n",
      "3          0.0  \n",
      "4          0.0  \n"
     ]
    }
   ],
   "source": [
    "# Inicializamos el codificador One-Hot\n",
    "encoder = OneHotEncoder()\n",
    "# Ajustamos el codificador a los datos y transformamos la variable categórica\n",
    "encoded_data2 = encoder.fit_transform(df_encoded[['Gender']]).toarray()\n",
    "# Creamos un DataFrame con las columnas codificadas\n",
    "encoded_df2 = pd.DataFrame(encoded_data2, columns=encoder.get_feature_names_out(['Gender']))\n",
    "\n",
    "# Concatenamos el DataFrame original con el DataFrame codificado\n",
    "df_encoded2 = pd.concat([df_encoded, encoded_df2], axis=1)\n",
    "\n",
    "# Eliminamos la columna original de la variable categórica\n",
    "df_encoded2.drop(['Gender'], axis=1, inplace=True)\n",
    "\n",
    "# Visualizamos el DataFrame con la codificación One-Hot\n",
    "print(\"\\nDataFrame con codificación One-Hot:\")\n",
    "print(df_encoded2.head())"
   ]
  },
  {
   "cell_type": "markdown",
   "id": "40098c7e-4d44-42e3-b24a-ff73342d4e62",
   "metadata": {},
   "source": [
    "<h3> 2. Integer Encoding </h3> "
   ]
  },
  {
   "cell_type": "markdown",
   "id": "bbac1523",
   "metadata": {},
   "source": [
    "Gender"
   ]
  },
  {
   "cell_type": "code",
   "execution_count": 4,
   "id": "1ce70e0a-5e31-4850-9886-678e8fa42e69",
   "metadata": {},
   "outputs": [
    {
     "name": "stdout",
     "output_type": "stream",
     "text": [
      "\n",
      "DataFrame con codificación numérica:\n",
      "   RowNumber  CustomerId   Surname  CreditScore Geography  Age  Tenure  \\\n",
      "0          1    15634602  Hargrave          619    France   42       2   \n",
      "1          2    15647311      Hill          608     Spain   41       1   \n",
      "2          3    15619304      Onio          502    France   42       8   \n",
      "3          4    15701354      Boni          699    France   39       1   \n",
      "4          5    15737888  Mitchell          850     Spain   43       2   \n",
      "\n",
      "     Balance  NumOfProducts  HasCrCard  IsActiveMember  EstimatedSalary  \\\n",
      "0       0.00              1          1               1        101348.88   \n",
      "1   83807.86              1          0               1        112542.58   \n",
      "2  159660.80              3          1               0        113931.57   \n",
      "3       0.00              2          0               0         93826.63   \n",
      "4  125510.82              1          1               1         79084.10   \n",
      "\n",
      "   Exited  Gender_Encoded  \n",
      "0       1               0  \n",
      "1       0               0  \n",
      "2       1               0  \n",
      "3       0               0  \n",
      "4       0               0  \n"
     ]
    }
   ],
   "source": [
    "data = pd.read_csv('Churn_Modelling.csv')\n",
    "\n",
    "# Codificamos la variable categórica 'Color' en una sola columna numérica\n",
    "data['Gender_Encoded'], _ = pd.factorize(data['Gender'])\n",
    "data.drop(['Gender'], axis=1, inplace=True)\n",
    "# Visualizamos el DataFrame con la codificación numérica\n",
    "print(\"\\nDataFrame con codificación numérica:\")\n",
    "print(data.head(5))"
   ]
  },
  {
   "cell_type": "markdown",
   "id": "64d90ea6",
   "metadata": {},
   "source": [
    "Geography"
   ]
  },
  {
   "cell_type": "code",
   "execution_count": 5,
   "id": "d07bd6ae",
   "metadata": {},
   "outputs": [
    {
     "name": "stdout",
     "output_type": "stream",
     "text": [
      "\n",
      "DataFrame con codificación numérica:\n",
      "   RowNumber  CustomerId   Surname  CreditScore  Age  Tenure    Balance  \\\n",
      "0          1    15634602  Hargrave          619   42       2       0.00   \n",
      "1          2    15647311      Hill          608   41       1   83807.86   \n",
      "2          3    15619304      Onio          502   42       8  159660.80   \n",
      "3          4    15701354      Boni          699   39       1       0.00   \n",
      "4          5    15737888  Mitchell          850   43       2  125510.82   \n",
      "\n",
      "   NumOfProducts  HasCrCard  IsActiveMember  EstimatedSalary  Exited  \\\n",
      "0              1          1               1        101348.88       1   \n",
      "1              1          0               1        112542.58       0   \n",
      "2              3          1               0        113931.57       1   \n",
      "3              2          0               0         93826.63       0   \n",
      "4              1          1               1         79084.10       0   \n",
      "\n",
      "   Gender_Encoded  Geography_Encoded  \n",
      "0               0                  0  \n",
      "1               0                  1  \n",
      "2               0                  0  \n",
      "3               0                  0  \n",
      "4               0                  1  \n"
     ]
    }
   ],
   "source": [
    "# Codificamos la variable categórica 'Color' en una sola columna numérica\n",
    "data['Geography_Encoded'], _ = pd.factorize(data['Geography'])\n",
    "data.drop(['Geography'], axis=1, inplace=True)\n",
    "# Visualizamos el DataFrame con la codificación numérica\n",
    "print(\"\\nDataFrame con codificación numérica:\")\n",
    "print(data.head(5))"
   ]
  },
  {
   "cell_type": "markdown",
   "id": "8c814924-b5f7-4d8a-b5a4-9a3ff20eb2b7",
   "metadata": {},
   "source": [
    "<h3> 3. Frequency Encoding </h3> "
   ]
  },
  {
   "cell_type": "markdown",
   "id": "c1795544",
   "metadata": {},
   "source": [
    "Gender"
   ]
  },
  {
   "cell_type": "code",
   "execution_count": 6,
   "id": "901f339d-a736-4b52-b25c-5a4c3f3a8c74",
   "metadata": {},
   "outputs": [
    {
     "name": "stdout",
     "output_type": "stream",
     "text": [
      "\n",
      "DataFrame con codificación de frecuencia:\n",
      "   RowNumber  CustomerId   Surname  CreditScore Geography  Age  Tenure  \\\n",
      "0          1    15634602  Hargrave          619    France   42       2   \n",
      "1          2    15647311      Hill          608     Spain   41       1   \n",
      "2          3    15619304      Onio          502    France   42       8   \n",
      "3          4    15701354      Boni          699    France   39       1   \n",
      "4          5    15737888  Mitchell          850     Spain   43       2   \n",
      "\n",
      "     Balance  NumOfProducts  HasCrCard  IsActiveMember  EstimatedSalary  \\\n",
      "0       0.00              1          1               1        101348.88   \n",
      "1   83807.86              1          0               1        112542.58   \n",
      "2  159660.80              3          1               0        113931.57   \n",
      "3       0.00              2          0               0         93826.63   \n",
      "4  125510.82              1          1               1         79084.10   \n",
      "\n",
      "   Exited  Gender_Frequency_Encoded  \n",
      "0       1                    0.4543  \n",
      "1       0                    0.4543  \n",
      "2       1                    0.4543  \n",
      "3       0                    0.4543  \n",
      "4       0                    0.4543  \n"
     ]
    }
   ],
   "source": [
    "data = pd.read_csv('Churn_Modelling.csv')\n",
    "# Calculamos la frecuencia de cada categoría en la columna 'Color'\n",
    "frequency_map_gender = data['Gender'].value_counts(normalize=True)\n",
    "\n",
    "# Mapeamos las frecuencias de las categorías en el DataFrame\n",
    "data['Gender_Frequency_Encoded'] = data['Gender'].map(frequency_map_gender)\n",
    "data.drop(['Gender'], axis=1, inplace=True)\n",
    "# Visualizamos el DataFrame con la codificación de frecuencia\n",
    "print(\"\\nDataFrame con codificación de frecuencia:\")\n",
    "print(data.head(5))"
   ]
  },
  {
   "cell_type": "markdown",
   "id": "e27b7174",
   "metadata": {},
   "source": [
    "Geography"
   ]
  },
  {
   "cell_type": "code",
   "execution_count": 7,
   "id": "89b37442",
   "metadata": {},
   "outputs": [
    {
     "name": "stdout",
     "output_type": "stream",
     "text": [
      "\n",
      "DataFrame con codificación de frecuencia:\n",
      "   RowNumber  CustomerId   Surname  CreditScore  Age  Tenure    Balance  \\\n",
      "0          1    15634602  Hargrave          619   42       2       0.00   \n",
      "1          2    15647311      Hill          608   41       1   83807.86   \n",
      "2          3    15619304      Onio          502   42       8  159660.80   \n",
      "3          4    15701354      Boni          699   39       1       0.00   \n",
      "4          5    15737888  Mitchell          850   43       2  125510.82   \n",
      "\n",
      "   NumOfProducts  HasCrCard  IsActiveMember  EstimatedSalary  Exited  \\\n",
      "0              1          1               1        101348.88       1   \n",
      "1              1          0               1        112542.58       0   \n",
      "2              3          1               0        113931.57       1   \n",
      "3              2          0               0         93826.63       0   \n",
      "4              1          1               1         79084.10       0   \n",
      "\n",
      "   Gender_Frequency_Encoded  Geography_Frequency_Encoded  \n",
      "0                    0.4543                       0.5014  \n",
      "1                    0.4543                       0.2477  \n",
      "2                    0.4543                       0.5014  \n",
      "3                    0.4543                       0.5014  \n",
      "4                    0.4543                       0.2477  \n"
     ]
    }
   ],
   "source": [
    "# Calculamos la frecuencia de cada categoría en la columna 'Color'\n",
    "frequency_map_gender = data['Geography'].value_counts(normalize=True)\n",
    "\n",
    "# Mapeamos las frecuencias de las categorías en el DataFrame\n",
    "data['Geography_Frequency_Encoded'] = data['Geography'].map(frequency_map_gender)\n",
    "data.drop(['Geography'], axis=1, inplace=True)\n",
    "# Visualizamos el DataFrame con la codificación de frecuencia\n",
    "print(\"\\nDataFrame con codificación de frecuencia:\")\n",
    "print(data.head(5))"
   ]
  },
  {
   "cell_type": "markdown",
   "id": "fc497f03-e1fc-438b-9e25-85847aeb8192",
   "metadata": {},
   "source": [
    "<h3> 4. Target Encoding </h3> "
   ]
  },
  {
   "cell_type": "markdown",
   "id": "d6302220",
   "metadata": {},
   "source": [
    "Gender"
   ]
  },
  {
   "cell_type": "code",
   "execution_count": 8,
   "id": "e0ad747f-b194-44c0-89dc-0a9209b80c12",
   "metadata": {},
   "outputs": [
    {
     "name": "stdout",
     "output_type": "stream",
     "text": [
      "\n",
      "DataFrame con Target Encoding:\n",
      "   RowNumber  CustomerId   Surname  CreditScore Geography  Gender  Age  \\\n",
      "0          1    15634602  Hargrave          619    France  Female   42   \n",
      "1          2    15647311      Hill          608     Spain  Female   41   \n",
      "2          3    15619304      Onio          502    France  Female   42   \n",
      "3          4    15701354      Boni          699    France  Female   39   \n",
      "4          5    15737888  Mitchell          850     Spain  Female   43   \n",
      "\n",
      "   Tenure    Balance  NumOfProducts  HasCrCard  IsActiveMember  \\\n",
      "0       2       0.00              1          1               1   \n",
      "1       1   83807.86              1          0               1   \n",
      "2       8  159660.80              3          1               0   \n",
      "3       1       0.00              2          0               0   \n",
      "4       2  125510.82              1          1               1   \n",
      "\n",
      "   EstimatedSalary  Exited  Gender_Target_Encoded_with_Age  \n",
      "0        101348.88       1                       39.238389  \n",
      "1        112542.58       0                       39.238389  \n",
      "2        113931.57       1                       39.238389  \n",
      "3         93826.63       0                       39.238389  \n",
      "4         79084.10       0                       39.238389  \n"
     ]
    }
   ],
   "source": [
    "data = pd.read_csv('Churn_Modelling.csv')\n",
    "\n",
    "# Calculamos la media del valor objetivo (target) para cada categoría en la columna 'Color'\n",
    "target_means = data.groupby('Gender')['Age'].mean()\n",
    "\n",
    "# Mapeamos las medias de los valores objetivo correspondientes a las categorías en el DataFrame\n",
    "data['Gender_Target_Encoded_with_Age'] = data['Gender'].map(target_means)\n",
    "\n",
    "# Visualizamos el DataFrame con el Target Encoding\n",
    "print(\"\\nDataFrame con Target Encoding:\")\n",
    "print(data.head(5))"
   ]
  },
  {
   "cell_type": "markdown",
   "id": "1049c746",
   "metadata": {},
   "source": [
    "Geography"
   ]
  },
  {
   "cell_type": "code",
   "execution_count": 9,
   "id": "56fa6264",
   "metadata": {},
   "outputs": [
    {
     "name": "stdout",
     "output_type": "stream",
     "text": [
      "\n",
      "DataFrame con Target Encoding:\n",
      "   RowNumber  CustomerId   Surname  CreditScore Geography  Gender  Age  \\\n",
      "0          1    15634602  Hargrave          619    France  Female   42   \n",
      "1          2    15647311      Hill          608     Spain  Female   41   \n",
      "2          3    15619304      Onio          502    France  Female   42   \n",
      "3          4    15701354      Boni          699    France  Female   39   \n",
      "4          5    15737888  Mitchell          850     Spain  Female   43   \n",
      "\n",
      "   Tenure    Balance  NumOfProducts  HasCrCard  IsActiveMember  \\\n",
      "0       2       0.00              1          1               1   \n",
      "1       1   83807.86              1          0               1   \n",
      "2       8  159660.80              3          1               0   \n",
      "3       1       0.00              2          0               0   \n",
      "4       2  125510.82              1          1               1   \n",
      "\n",
      "   EstimatedSalary  Exited  Gender_Target_Encoded_with_Age  \\\n",
      "0        101348.88       1                       39.238389   \n",
      "1        112542.58       0                       39.238389   \n",
      "2        113931.57       1                       39.238389   \n",
      "3         93826.63       0                       39.238389   \n",
      "4         79084.10       0                       39.238389   \n",
      "\n",
      "   Geography_Target_Encoded_with_Age  \n",
      "0                          38.511767  \n",
      "1                          38.890997  \n",
      "2                          38.511767  \n",
      "3                          38.511767  \n",
      "4                          38.890997  \n"
     ]
    }
   ],
   "source": [
    "# Calculamos la media del valor objetivo (target) para cada categoría en la columna 'Color'\n",
    "target_means = data.groupby('Geography')['Age'].mean()\n",
    "\n",
    "# Mapeamos las medias de los valores objetivo correspondientes a las categorías en el DataFrame\n",
    "data['Geography_Target_Encoded_with_Age'] = data['Geography'].map(target_means)\n",
    "\n",
    "# Visualizamos el DataFrame con el Target Encoding\n",
    "print(\"\\nDataFrame con Target Encoding:\")\n",
    "print(data.head(5))"
   ]
  },
  {
   "cell_type": "markdown",
   "id": "8556f91d",
   "metadata": {},
   "source": [
    "<h2> 5. Label Encoding </h2> "
   ]
  },
  {
   "cell_type": "markdown",
   "id": "8d078c3d",
   "metadata": {},
   "source": [
    "Gender"
   ]
  },
  {
   "cell_type": "code",
   "execution_count": 10,
   "id": "af969274",
   "metadata": {},
   "outputs": [
    {
     "name": "stdout",
     "output_type": "stream",
     "text": [
      "\n",
      "DataFrame con codificación de etiquetas:\n",
      "   RowNumber  CustomerId   Surname  CreditScore Geography  Gender  Age  \\\n",
      "0          1    15634602  Hargrave          619    France  Female   42   \n",
      "1          2    15647311      Hill          608     Spain  Female   41   \n",
      "2          3    15619304      Onio          502    France  Female   42   \n",
      "3          4    15701354      Boni          699    France  Female   39   \n",
      "4          5    15737888  Mitchell          850     Spain  Female   43   \n",
      "\n",
      "   Tenure    Balance  NumOfProducts  HasCrCard  IsActiveMember  \\\n",
      "0       2       0.00              1          1               1   \n",
      "1       1   83807.86              1          0               1   \n",
      "2       8  159660.80              3          1               0   \n",
      "3       1       0.00              2          0               0   \n",
      "4       2  125510.82              1          1               1   \n",
      "\n",
      "   EstimatedSalary  Exited  Gender_Encoded  \n",
      "0        101348.88       1               0  \n",
      "1        112542.58       0               0  \n",
      "2        113931.57       1               0  \n",
      "3         93826.63       0               0  \n",
      "4         79084.10       0               0  \n"
     ]
    }
   ],
   "source": [
    "from sklearn.preprocessing import LabelEncoder\n",
    "data = pd.read_csv('Churn_Modelling.csv')\n",
    "\n",
    "# Inicializamos el codificador de etiquetas\n",
    "label_encoder = LabelEncoder()\n",
    "\n",
    "# Aplicamos la codificación de etiquetas a la columna 'Color'\n",
    "data['Gender_Encoded'] = label_encoder.fit_transform(data['Gender'])\n",
    "\n",
    "# Visualizamos el DataFrame con la codificación de etiquetas\n",
    "print(\"\\nDataFrame con codificación de etiquetas:\")\n",
    "print(data.head(5))\n"
   ]
  },
  {
   "cell_type": "markdown",
   "id": "29acd5e2",
   "metadata": {},
   "source": [
    "Geography"
   ]
  },
  {
   "cell_type": "code",
   "execution_count": 11,
   "id": "29a129e2",
   "metadata": {},
   "outputs": [
    {
     "name": "stdout",
     "output_type": "stream",
     "text": [
      "\n",
      "DataFrame con codificación de etiquetas:\n",
      "   RowNumber  CustomerId   Surname  CreditScore Geography  Gender  Age  \\\n",
      "0          1    15634602  Hargrave          619    France  Female   42   \n",
      "1          2    15647311      Hill          608     Spain  Female   41   \n",
      "2          3    15619304      Onio          502    France  Female   42   \n",
      "3          4    15701354      Boni          699    France  Female   39   \n",
      "4          5    15737888  Mitchell          850     Spain  Female   43   \n",
      "\n",
      "   Tenure    Balance  NumOfProducts  HasCrCard  IsActiveMember  \\\n",
      "0       2       0.00              1          1               1   \n",
      "1       1   83807.86              1          0               1   \n",
      "2       8  159660.80              3          1               0   \n",
      "3       1       0.00              2          0               0   \n",
      "4       2  125510.82              1          1               1   \n",
      "\n",
      "   EstimatedSalary  Exited  Gender_Encoded  Geography_Encoded  \n",
      "0        101348.88       1               0                  0  \n",
      "1        112542.58       0               0                  2  \n",
      "2        113931.57       1               0                  0  \n",
      "3         93826.63       0               0                  0  \n",
      "4         79084.10       0               0                  2  \n"
     ]
    }
   ],
   "source": [
    "# Aplicamos la codificación de etiquetas a la columna 'Color'\n",
    "data['Geography_Encoded'] = label_encoder.fit_transform(data['Geography'])\n",
    "\n",
    "# Visualizamos el DataFrame con la codificación de etiquetas\n",
    "print(\"\\nDataFrame con codificación de etiquetas:\")\n",
    "print(data.head(5))"
   ]
  }
 ],
 "metadata": {
  "kernelspec": {
   "display_name": "Python 3 (ipykernel)",
   "language": "python",
   "name": "python3"
  },
  "language_info": {
   "codemirror_mode": {
    "name": "ipython",
    "version": 3
   },
   "file_extension": ".py",
   "mimetype": "text/x-python",
   "name": "python",
   "nbconvert_exporter": "python",
   "pygments_lexer": "ipython3",
   "version": "3.11.9"
  }
 },
 "nbformat": 4,
 "nbformat_minor": 5
}
